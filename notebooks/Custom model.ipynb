{
 "cells": [
  {
   "cell_type": "code",
   "execution_count": 1,
   "id": "b28e22db",
   "metadata": {},
   "outputs": [],
   "source": [
    "import os\n",
    "import sys\n",
    "import glob\n",
    "import math\n",
    "import numpy as np\n",
    "import pandas as pd\n",
    "import seaborn as sns\n",
    "from scipy import stats\n",
    "import matplotlib.pyplot as plt\n",
    "%matplotlib inline\n",
    "\n",
    "from sklearn.linear_model import LinearRegression\n",
    "from sklearn.metrics import mean_squared_error\n",
    "from sklearn.isotonic import IsotonicRegression\n",
    "import random"
   ]
  },
  {
   "cell_type": "code",
   "execution_count": 2,
   "id": "5e4587f9",
   "metadata": {},
   "outputs": [],
   "source": [
    "dataset_name = 'Combined_Cycle_Power_Plant_Dataset'\n",
    "n_thresholds = 32\n",
    "classifier_folder = 'RandomForest_classifier'"
   ]
  },
  {
   "cell_type": "code",
   "execution_count": 3,
   "id": "b21784d9",
   "metadata": {},
   "outputs": [],
   "source": [
    "split_0_thresholds_real_values = [\n",
    " -1.64903713, -1.48213775, -1.34932436, -1.23791729, -1.14045313, -1.0426418,\n",
    " -0.95044171, -0.86286024, -0.77755683, -0.69584382, -0.61276514, -0.51563182,\n",
    " -0.42969661, -0.33171858, -0.22501316, -0.11824968,  0.0065468,   0.12508521,\n",
    "  0.2570924,   0.40129147,  0.53294442,  0.62902742,  0.71434348,  0.80378459,\n",
    "  0.89288096,  0.99337665,  1.08873837,  1.18107694,  1.28890763,  1.38965359,\n",
    "  1.50629066,  1.64602984\n",
    "]\n",
    "\n",
    "split_1_thresholds_real_values = [\n",
    " -1.64960359, -1.48552966, -1.35308836, -1.23662492, -1.13665712, -1.03945539,\n",
    " -0.9471198,  -0.86014557, -0.77757291, -0.69501119, -0.61111706, -0.51655528,\n",
    " -0.43179836, -0.33493871, -0.22613232, -0.1192303,   0.00510153,  0.12844131,\n",
    "  0.25871129,  0.40069569,  0.53396968,  0.63314237,  0.71578989,  0.80139441,\n",
    "  0.89219614,  0.99022027,  1.0869545,   1.1769188,   1.28826677,  1.38797967,\n",
    "  1.505277,    1.6500434 ]\n",
    "\n",
    "split_2_thresholds_real_values = [\n",
    " -1.64670987, -1.48654836, -1.35221934, -1.23790065, -1.13847454, -1.0402835,\n",
    " -0.94773873, -0.86129359, -0.77780808, -0.6908546,  -0.6089095,  -0.51349989,\n",
    " -0.42727437, -0.32962796, -0.224481,   -0.11920678, 0.00665003,  0.12558284,\n",
    "  0.25572171,  0.40040973,  0.52899571,  0.62884327,  0.71080179,  0.79324971,\n",
    "  0.88895699,  0.99123288,  1.08615775, 1.18128634,  1.29202286,  1.3928888,\n",
    "  1.510493,    1.65051973]\n",
    "\n",
    "split_3_thresholds_real_values = [\n",
    " -1.64694135, -1.48444873, -1.3565369,  -1.24118883, -1.14069584, -1.04146458,\n",
    " -0.94935487, -0.86040188, -0.77660388, -0.68796241, -0.60983866, -0.51680937,\n",
    " -0.42887094, -0.33477416, -0.22796482, -0.12046255,  0.00868737,  0.12552282,\n",
    "  0.25766769,  0.41140187,  0.53603764,  0.63119068,  0.71561741,  0.80045896,\n",
    "  0.88959645,  0.98899203,  1.08307808,  1.17743971,  1.28639724,  1.39041508,\n",
    "  1.50748267,  1.65085442]\n",
    "\n",
    "split_4_thresholds_real_values = [\n",
    " -1.64482385 ,-1.47784319 ,-1.3481702 , -1.23821142 ,-1.13755266, -1.04268381,\n",
    " -0.95110846 ,-0.86485901 ,-0.78084362, -0.69688187 ,-0.61300405, -0.5177782,\n",
    " -0.42906755 ,-0.33488296 ,-0.22356994, -0.11982345,  0.01054124,  0.12674226,\n",
    "  0.25995018,  0.40966932,  0.53530418,  0.6324467,   0.71723984,  0.80090505,\n",
    "  0.89134063,  0.99000315,  1.0868937 ,  1.17701372,  1.29147579,  1.38847941,\n",
    "  1.5051769,   1.65173829]\n",
    "\n",
    "split_5_thresholds_real_values = [\n",
    " -1.64203865 ,-1.48255543 ,-1.35279253 ,-1.24042542 ,-1.14053781 ,-1.04416602,\n",
    " -0.94894421 ,-0.86497555 ,-0.77890345 ,-0.69366634 ,-0.61199908 ,-0.51422483,\n",
    " -0.43098101 ,-0.33366723 ,-0.22382841 ,-0.11902946,  0.00865877,  0.12640966,\n",
    "  0.26158174,  0.40647876,  0.5339824,   0.62877962,  0.71592913,  0.79984305,\n",
    "  0.88949705,  0.99358508,  1.08908846,  1.17742734,  1.29117424,  1.3849276,\n",
    "  1.50921071,  1.64981781]\n",
    "\n",
    "split_6_thresholds_real_values = [\n",
    " -1.64978764, -1.48572307, -1.3516937, -1.23919908, -1.13766539, -1.039713,\n",
    " -0.94739273, -0.85898405, -0.77715956, -0.69462015, -0.61074627, -0.51485723,\n",
    " -0.42617329, -0.331374, -0.22770651, -0.1235387, 0.00364389, 0.12355166,\n",
    "  0.25772208, 0.40945725, 0.53618409,  0.6312352, 0.71658136, 0.80178624,\n",
    "  0.8917375, 0.98994408, 1.09063208, 1.17933816, 1.28753808, 1.38950857,\n",
    "  1.50563355, 1.65232019]\n",
    "\n",
    "split_7_thresholds_real_values = [\n",
    " -1.655621,   -1.4873162  ,-1.35517286 ,-1.23971156 ,-1.13835427 ,-1.03754064,\n",
    " -0.94538326 ,-0.85566113 ,-0.77254201 ,-0.68873818 ,-0.60843387 ,-0.5173218,\n",
    " -0.43123296 ,-0.33047721 ,-0.22424303 ,-0.11543186,  0.00896073,  0.12596603,\n",
    "  0.25602217,  0.39902562,  0.52581155,  0.62710764,  0.71329263,  0.79932701,\n",
    "  0.88962324,  0.99063202,  1.08602131,  1.17840348,  1.28369985,  1.38950239,\n",
    "  1.50893534,  1.65848228]\n",
    "\n",
    "split_8_thresholds_real_values = [\n",
    " -1.64688852 ,-1.48483569 ,-1.35132635 ,-1.23792232 ,-1.13869915 ,-1.04223907,\n",
    " -0.94620126 ,-0.85935401 ,-0.77264298, -0.6896141  ,-0.60734493 ,-0.51159203,\n",
    " -0.42907556 ,-0.33106591 ,-0.22620906 ,-0.12559369,  0.0055466,   0.12412165,\n",
    "  0.25502825,  0.39817065,  0.52655596,  0.63164132,  0.71526404,  0.79952572,\n",
    "  0.89492073,  0.99394093,  1.08666186,  1.17779457,  1.29265375,  1.3904384,\n",
    "  1.50750657,  1.64904808]\n",
    "\n",
    "split_9_thresholds_real_values = [\n",
    " -1.63374073 ,-1.48680494 ,-1.35411495 ,-1.24057255 ,-1.14112419 ,-1.04291243,\n",
    " -0.95034939 ,-0.86025897, -0.7753964  ,-0.69132042 ,-0.60940011 ,-0.5140205,\n",
    " -0.42782327 ,-0.33345279 ,-0.22636871 ,-0.11924786,  0.00593893,  0.12482047,\n",
    "  0.25489937,  0.40502659,  0.53365204,  0.6299165,   0.71589109,  0.79917661,\n",
    "  0.89171335,  0.99094141,  1.08483583,  1.17989198,  1.29053962,  1.39132018,\n",
    "  1.50797069,  1.65076139]\n",
    "\n",
    "splits_thresholds_real_values = [\n",
    "    split_0_thresholds_real_values,\n",
    "    split_1_thresholds_real_values,\n",
    "    split_2_thresholds_real_values,\n",
    "    split_3_thresholds_real_values,\n",
    "    split_4_thresholds_real_values,\n",
    "    split_5_thresholds_real_values,\n",
    "    split_6_thresholds_real_values,\n",
    "    split_7_thresholds_real_values,\n",
    "    split_8_thresholds_real_values,\n",
    "    split_9_thresholds_real_values\n",
    "]"
   ]
  },
  {
   "cell_type": "code",
   "execution_count": 4,
   "id": "8bd8c1b3",
   "metadata": {},
   "outputs": [],
   "source": [
    "class isotonic_regression_model():\n",
    "    def __init__(self):\n",
    "        super(isotonic_regression_model, self).__init__()\n",
    "        self.thresholds_real_values = None\n",
    "        self.n_thresholds = None\n",
    "        self.values_between_thresholds = None\n",
    "        \n",
    "    def fit(self, thresholds_real_values):\n",
    "        self.thresholds_real_values = thresholds_real_values\n",
    "        self.n_thresholds = len(thresholds_real_values)\n",
    "        \n",
    "        self.values_between_thresholds = []\n",
    "        for tmp_index in range(len(thresholds_real_values) - 1):\n",
    "            self.values_between_thresholds.append((thresholds_real_values[tmp_index] + thresholds_real_values[tmp_index + 1]) / 2.0)\n",
    "    \n",
    "    def predict(self, X):\n",
    "        predictions = []\n",
    "        \n",
    "        for classifiers_prediction in X:\n",
    "            isotonic_regression_model = IsotonicRegression().fit(self.thresholds_real_values, classifiers_prediction)\n",
    "            isotonic_prediction = isotonic_regression_model.predict(self.thresholds_real_values)\n",
    "        \n",
    "            differences = []\n",
    "            for tmp_index in range(self.n_thresholds - 1):\n",
    "                differences.append(isotonic_prediction[tmp_index + 1] - isotonic_prediction[tmp_index])\n",
    "                \n",
    "            weighted_mean = 0\n",
    "            for yi, Pi in zip(self.values_between_thresholds, differences):\n",
    "                weighted_mean += Pi * yi\n",
    "                \n",
    "            predictions.append(weighted_mean)\n",
    "        \n",
    "        return predictions\n",
    "    \n",
    "    def predict_largest_diff(self, X):\n",
    "        predictions = []\n",
    "        \n",
    "        for classifiers_prediction in X:\n",
    "            isotonic_regression_model = IsotonicRegression().fit(self.thresholds_real_values, classifiers_prediction)\n",
    "            isotonic_prediction = isotonic_regression_model.predict(self.thresholds_real_values)\n",
    "        \n",
    "            differences = []\n",
    "            for tmp_index in range(self.n_thresholds - 1):\n",
    "                differences.append(isotonic_prediction[tmp_index + 1] - isotonic_prediction[tmp_index])\n",
    "                \n",
    "            predictions.append(self.values_between_thresholds[np.argmax(differences)])\n",
    "        \n",
    "        return predictions\n",
    "        \n",
    "            \n",
    "    def fit_predict(self, thresholds_real_values, X):\n",
    "        self.fit(thresholds_real_values)\n",
    "        return self.predict(X)\n",
    "        \n",
    "            \n",
    "    def fit_predict_largest_diff(self, thresholds_real_values, X):\n",
    "        self.fit(thresholds_real_values)\n",
    "        return self.predict_largest_diff(X)"
   ]
  },
  {
   "cell_type": "code",
   "execution_count": 5,
   "id": "4d68a54d",
   "metadata": {},
   "outputs": [],
   "source": [
    "def load_datasets(path, name):\n",
    "    folds_directories = [f.path for f in os.scandir(path) if name in f.path.split('_')]\n",
    "\n",
    "    datasets_list = []\n",
    "\n",
    "    for fold_path in folds_directories:\n",
    "        datasets_list.append(pd.read_csv(fold_path))\n",
    "        \n",
    "    return datasets_list"
   ]
  },
  {
   "cell_type": "code",
   "execution_count": 6,
   "id": "5b6cfe05",
   "metadata": {},
   "outputs": [],
   "source": [
    "TRAIN_splits_extracted_features_dataset = load_datasets(os.path.join('..', 'data', 'extracted_features', dataset_name, str(n_thresholds) + '_bins_equal_freq_below_threshold', classifier_folder), 'TRAIN')\n",
    "TEST_splits_extracted_features_dataset = load_datasets(os.path.join('..', 'data', 'extracted_features', dataset_name, str(n_thresholds) + '_bins_equal_freq_below_threshold', classifier_folder), 'TEST')"
   ]
  },
  {
   "cell_type": "code",
   "execution_count": 7,
   "id": "0b91f481",
   "metadata": {},
   "outputs": [
    {
     "name": "stdout",
     "output_type": "stream",
     "text": [
      "===== Split 0 :\n",
      "Custom model TRAIN RMSE =      0.398\n",
      "Custom model TEST RMSE =       0.382\n",
      "Custom model TRAIN RMSE 2 =    0.171\n",
      "Custom model TEST RMSE 2 =     0.233\n",
      "Linear regression TRAIN RMSE = 0.077\n",
      "Linear regression TEST RMSE =  0.189\n",
      "===== Split 1 :\n",
      "Custom model TRAIN RMSE =      0.396\n",
      "Custom model TEST RMSE =       0.369\n",
      "Custom model TRAIN RMSE 2 =    0.163\n",
      "Custom model TEST RMSE 2 =     0.241\n",
      "Linear regression TRAIN RMSE = 0.076\n",
      "Linear regression TEST RMSE =  0.211\n",
      "===== Split 2 :\n",
      "Custom model TRAIN RMSE =      0.398\n",
      "Custom model TEST RMSE =       0.413\n",
      "Custom model TRAIN RMSE 2 =    0.164\n",
      "Custom model TEST RMSE 2 =     0.252\n",
      "Linear regression TRAIN RMSE = 0.077\n",
      "Linear regression TEST RMSE =  0.188\n",
      "===== Split 3 :\n",
      "Custom model TRAIN RMSE =      0.398\n",
      "Custom model TEST RMSE =       0.375\n",
      "Custom model TRAIN RMSE 2 =    0.138\n",
      "Custom model TEST RMSE 2 =     0.240\n",
      "Linear regression TRAIN RMSE = 0.076\n",
      "Linear regression TEST RMSE =  0.216\n",
      "===== Split 4 :\n",
      "Custom model TRAIN RMSE =      0.397\n",
      "Custom model TEST RMSE =       0.388\n",
      "Custom model TRAIN RMSE 2 =    0.157\n",
      "Custom model TEST RMSE 2 =     0.241\n",
      "Linear regression TRAIN RMSE = 0.076\n",
      "Linear regression TEST RMSE =  0.210\n",
      "===== Split 5 :\n",
      "Custom model TRAIN RMSE =      0.395\n",
      "Custom model TEST RMSE =       0.362\n",
      "Custom model TRAIN RMSE 2 =    0.143\n",
      "Custom model TEST RMSE 2 =     0.224\n",
      "Linear regression TRAIN RMSE = 0.076\n",
      "Linear regression TEST RMSE =  0.190\n",
      "===== Split 6 :\n",
      "Custom model TRAIN RMSE =      0.398\n",
      "Custom model TEST RMSE =       0.370\n",
      "Custom model TRAIN RMSE 2 =    0.142\n",
      "Custom model TEST RMSE 2 =     0.225\n",
      "Linear regression TRAIN RMSE = 0.077\n",
      "Linear regression TEST RMSE =  0.193\n",
      "===== Split 7 :\n",
      "Custom model TRAIN RMSE =      0.398\n",
      "Custom model TEST RMSE =       0.388\n",
      "Custom model TRAIN RMSE 2 =    0.129\n",
      "Custom model TEST RMSE 2 =     0.267\n",
      "Linear regression TRAIN RMSE = 0.077\n",
      "Linear regression TEST RMSE =  0.184\n",
      "===== Split 8 :\n",
      "Custom model TRAIN RMSE =      0.398\n",
      "Custom model TEST RMSE =       0.390\n",
      "Custom model TRAIN RMSE 2 =    0.147\n",
      "Custom model TEST RMSE 2 =     0.263\n",
      "Linear regression TRAIN RMSE = 0.077\n",
      "Linear regression TEST RMSE =  0.201\n",
      "===== Split 9 :\n",
      "Custom model TRAIN RMSE =      0.398\n",
      "Custom model TEST RMSE =       0.408\n",
      "Custom model TRAIN RMSE 2 =    0.159\n",
      "Custom model TEST RMSE 2 =     0.249\n",
      "Linear regression TRAIN RMSE = 0.078\n",
      "Linear regression TEST RMSE =  0.186\n",
      "\n",
      "================\n",
      "\n",
      "Custom model mean normal train rmse :       0.397\n",
      "Custom model mean normal test rmse :        0.384\n",
      "Custom model mean largest diff train rmse : 0.151\n",
      "Custom model mean largest diff test rmse :  0.244\n",
      "Linear regression mean train rmse :         0.077\n",
      "Linear regression mean test rmse :          0.197\n"
     ]
    }
   ],
   "source": [
    "custom_model_train_rmses = []\n",
    "custom_model_test_rmses = []\n",
    "\n",
    "custom_model_train_rmses_2 = []\n",
    "custom_model_test_rmses_2 = []\n",
    "\n",
    "lr_train_rmses = []\n",
    "lr_test_rmses = []\n",
    "\n",
    "for i in range(10):\n",
    "    print(\"===== Split \" + str(i) + \" :\")\n",
    "    \n",
    "    split_i_TRAIN_dataset = TRAIN_splits_extracted_features_dataset[i]\n",
    "    split_i_TRAIN_thresholds_prediction = []\n",
    "    for class_col in [e for e in split_i_TRAIN_dataset.columns if 'threshold' in e.split('_') and '1|X)' in e.split('_')]:\n",
    "        split_i_TRAIN_thresholds_prediction.append(list(split_i_TRAIN_dataset[class_col]))\n",
    "    split_i_TRAIN_thresholds_prediction = np.array(split_i_TRAIN_thresholds_prediction).T\n",
    "    \n",
    "    split_i_TEST_dataset = TEST_splits_extracted_features_dataset[i]\n",
    "    split_i_TEST_thresholds_prediction = []\n",
    "    for class_col in [e for e in split_i_TEST_dataset.columns if 'threshold' in e.split('_') and '1|X)' in e.split('_')]:\n",
    "        split_i_TEST_thresholds_prediction.append(list(split_i_TEST_dataset[class_col]))\n",
    "    split_i_TEST_thresholds_prediction = np.array(split_i_TEST_thresholds_prediction).T\n",
    "\n",
    "    custom_model_train_rmses.append(mean_squared_error(list(split_i_TRAIN_dataset['reg_goal_var']),\n",
    "                                                       isotonic_regression_model().fit_predict(splits_thresholds_real_values[i],\n",
    "                                                                                               split_i_TRAIN_thresholds_prediction),\n",
    "                                                       squared=False))\n",
    "    print(\"Custom model TRAIN RMSE =      {0:.3f}\".format(custom_model_train_rmses[-1]))\n",
    "    \n",
    "    custom_model_test_rmses.append(mean_squared_error(list(split_i_TEST_dataset['reg_goal_var']),\n",
    "                                                       isotonic_regression_model().fit_predict(splits_thresholds_real_values[i],\n",
    "                                                                                               split_i_TEST_thresholds_prediction),\n",
    "                                                       squared=False))\n",
    "    print(\"Custom model TEST RMSE =       {0:.3f}\".format(custom_model_test_rmses[-1]))\n",
    "    \n",
    "    \n",
    "    \n",
    "    \n",
    "    \n",
    "    custom_model_train_rmses_2.append(mean_squared_error(list(split_i_TRAIN_dataset['reg_goal_var']),\n",
    "                                                       isotonic_regression_model().fit_predict_largest_diff(splits_thresholds_real_values[i],\n",
    "                                                                                               split_i_TRAIN_thresholds_prediction),\n",
    "                                                       squared=False))\n",
    "    print(\"Custom model TRAIN RMSE 2 =    {0:.3f}\".format(custom_model_train_rmses_2[-1]))\n",
    "    \n",
    "    custom_model_test_rmses_2.append(mean_squared_error(list(split_i_TEST_dataset['reg_goal_var']),\n",
    "                                                       isotonic_regression_model().fit_predict_largest_diff(splits_thresholds_real_values[i],\n",
    "                                                                                               split_i_TEST_thresholds_prediction),\n",
    "                                                       squared=False))\n",
    "    print(\"Custom model TEST RMSE 2 =     {0:.3f}\".format(custom_model_test_rmses_2[-1]))\n",
    "    \n",
    "    \n",
    "    \n",
    "    \n",
    "\n",
    "    lr_model = LinearRegression().fit(split_i_TRAIN_thresholds_prediction, split_i_TRAIN_dataset['reg_goal_var'])\n",
    "    \n",
    "    lr_train_rmses.append(mean_squared_error(list(split_i_TRAIN_dataset['reg_goal_var']),\n",
    "                                             lr_model.predict(split_i_TRAIN_thresholds_prediction),\n",
    "                                             squared=False))\n",
    "    \n",
    "    lr_test_rmses.append(mean_squared_error(list(split_i_TEST_dataset['reg_goal_var']),\n",
    "                                             lr_model.predict(split_i_TEST_thresholds_prediction),\n",
    "                                             squared=False))\n",
    "    \n",
    "    \n",
    "    \n",
    "    \n",
    "    \n",
    "    print(\"Linear regression TRAIN RMSE = {0:.3f}\".format(lr_train_rmses[-1]))\n",
    "\n",
    "    print(\"Linear regression TEST RMSE =  {0:.3f}\".format(lr_test_rmses[-1]))\n",
    "    \n",
    "print('\\n================\\n')\n",
    "print(\"Custom model mean normal train rmse :       {0:.3f}\".format(np.mean(custom_model_train_rmses)))\n",
    "print(\"Custom model mean normal test rmse :        {0:.3f}\".format(np.mean(custom_model_test_rmses)))\n",
    "print(\"Custom model mean largest diff train rmse : {0:.3f}\".format(np.mean(custom_model_train_rmses_2)))\n",
    "print(\"Custom model mean largest diff test rmse :  {0:.3f}\".format(np.mean(custom_model_test_rmses_2)))\n",
    "print(\"Linear regression mean train rmse :         {0:.3f}\".format(np.mean(lr_train_rmses)))\n",
    "print(\"Linear regression mean test rmse :          {0:.3f}\".format(np.mean(lr_test_rmses)))"
   ]
  },
  {
   "cell_type": "code",
   "execution_count": null,
   "id": "baeb3f92",
   "metadata": {},
   "outputs": [],
   "source": []
  },
  {
   "cell_type": "code",
   "execution_count": null,
   "id": "0c829b3f",
   "metadata": {},
   "outputs": [],
   "source": []
  },
  {
   "cell_type": "code",
   "execution_count": null,
   "id": "cc0a4642",
   "metadata": {},
   "outputs": [],
   "source": []
  },
  {
   "cell_type": "code",
   "execution_count": null,
   "id": "3be431a3",
   "metadata": {},
   "outputs": [],
   "source": []
  },
  {
   "cell_type": "code",
   "execution_count": 8,
   "id": "171bb122",
   "metadata": {},
   "outputs": [],
   "source": [
    "test_hundred_dataset = load_datasets(os.path.join('..', 'data', 'extracted_features', dataset_name, '100_bins_equal_freq_below_threshold', classifier_folder), 'TRAIN')[0]"
   ]
  },
  {
   "cell_type": "code",
   "execution_count": 9,
   "id": "3122a4b9",
   "metadata": {},
   "outputs": [],
   "source": [
    "test_hundred_thresholds_classifiers_prediction = []\n",
    "for class_col in [e for e in test_hundred_dataset.columns if 'threshold' in e.split('_') and '1|X)' in e.split('_')]:\n",
    "    test_hundred_thresholds_classifiers_prediction.append(list(test_hundred_dataset[class_col]))\n",
    "test_hundred_thresholds_classifiers_prediction = np.array(test_hundred_thresholds_classifiers_prediction).T"
   ]
  },
  {
   "cell_type": "code",
   "execution_count": 10,
   "id": "65f5e320",
   "metadata": {},
   "outputs": [
    {
     "data": {
      "text/plain": [
       "(8611, 100)"
      ]
     },
     "execution_count": 10,
     "metadata": {},
     "output_type": "execute_result"
    }
   ],
   "source": [
    "test_hundred_thresholds_classifiers_prediction.shape"
   ]
  },
  {
   "cell_type": "code",
   "execution_count": 11,
   "id": "cdb395e1",
   "metadata": {},
   "outputs": [],
   "source": [
    "hundred_thresholds_real_values = [\n",
    " -1.86602464, -1.73423924, -1.65525863, -1.5779327 , -1.53762595, -1.49018475,\n",
    " -1.44155526, -1.39909078, -1.36183035, -1.3208492 , -1.28735673, -1.25014845,\n",
    " -1.21400598, -1.17968553, -1.14560716, -1.11790291, -1.08578162, -1.05463101,\n",
    " -1.01766592, -0.98919458, -0.96163475, -0.93128059, -0.90772346, -0.87479286,\n",
    " -0.84281393, -0.81608902, -0.79309702, -0.76237722, -0.73539557, -0.70856816,\n",
    " -0.67909449, -0.64702561, -0.62208107, -0.59589487, -0.55961665, -0.53445747,\n",
    " -0.50269442, -0.47717234, -0.44779584, -0.41860565, -0.38828566, -0.35555504,\n",
    " -0.32435246, -0.28757437, -0.25236617, -0.22249391, -0.18904269, -0.15833469,\n",
    " -0.12163496, -0.08216057, -0.03208623,  0.00721246,  0.0437805 ,  0.0841937,\n",
    "  0.11720099,  0.15986201,  0.20038612,  0.24339462,  0.28598557,  0.3376702,\n",
    "  0.3870928 ,  0.43432097,  0.46913608,  0.51762441,  0.55814877,  0.582492,\n",
    "  0.61770258,  0.64898991,  0.67540469,  0.70499054,  0.73589891,  0.76228562,\n",
    "  0.78901125,  0.8175661 ,  0.84444048,  0.87853151,  0.90697468,  0.93474014,\n",
    "  0.97388097,  1.00407125,  1.03546531,  1.06615274,  1.10034738,  1.12870493,\n",
    "  1.16054743,  1.18575324,  1.21488953,  1.26179685,  1.29795959,  1.33226062,\n",
    "  1.3649621 ,  1.39371289,  1.43194568,  1.47024384,  1.51176321,  1.55827442,\n",
    "  1.59992173,  1.65701456,  1.72788622,  1.81627275\n",
    "]"
   ]
  },
  {
   "cell_type": "code",
   "execution_count": 12,
   "id": "32e6d4e1",
   "metadata": {},
   "outputs": [
    {
     "name": "stdout",
     "output_type": "stream",
     "text": [
      "Custom model TRAIN RMSE =      0.241\n"
     ]
    }
   ],
   "source": [
    "hundred_thresholds_prediction = isotonic_regression_model().fit_predict(hundred_thresholds_real_values,\n",
    "                                                           test_hundred_thresholds_classifiers_prediction)\n",
    "print(\"Custom model TRAIN RMSE =      {0:.3f}\".format(mean_squared_error(list(test_hundred_dataset['reg_goal_var']),\n",
    "                                                                         hundred_thresholds_prediction,\n",
    "                                                                         squared=False)))"
   ]
  },
  {
   "cell_type": "code",
   "execution_count": 13,
   "id": "2a895c77",
   "metadata": {},
   "outputs": [],
   "source": [
    "values_between_thresholds = []\n",
    "for tmp_index in range(len(hundred_thresholds_real_values) - 1):\n",
    "    values_between_thresholds.append((hundred_thresholds_real_values[tmp_index] + hundred_thresholds_real_values[tmp_index + 1]) / 2.0)"
   ]
  },
  {
   "cell_type": "code",
   "execution_count": 14,
   "id": "d68e432a",
   "metadata": {
    "scrolled": false
   },
   "outputs": [
    {
     "name": "stdout",
     "output_type": "stream",
     "text": [
      "index = 8323\n",
      "real Y value :   0.752\n",
      "predicted mean : 0.749 (diff = 0.003)\n",
      "Largest diff :   0.736 (diff = 0.016)\n"
     ]
    },
    {
     "data": {
      "text/plain": [
       "<matplotlib.lines.Line2D at 0x2ddb262a588>"
      ]
     },
     "execution_count": 14,
     "metadata": {},
     "output_type": "execute_result"
    },
    {
     "data": {
      "image/png": "[encoded data removed]",
      "text/plain": [
       "<Figure size 432x288 with 1 Axes>"
      ]
     },
     "metadata": {
      "needs_background": "light"
     },
     "output_type": "display_data"
    }
   ],
   "source": [
    "rand_index = random.randint(0, len(test_hundred_thresholds_classifiers_prediction))\n",
    "print('index =', rand_index)\n",
    "\n",
    "y0 = test_hundred_thresholds_classifiers_prediction[rand_index]\n",
    "\n",
    "model = IsotonicRegression().fit(hundred_thresholds_real_values, y0)\n",
    "\n",
    "model_prediction_for_all_the_thresholds = model.predict(hundred_thresholds_real_values)\n",
    "\n",
    "differences = []\n",
    "for tmp_index in range(len(model_prediction_for_all_the_thresholds) - 1):\n",
    "    differences.append(model_prediction_for_all_the_thresholds[tmp_index + 1] - model_prediction_for_all_the_thresholds[tmp_index])\n",
    "\n",
    "custom_prediction = np.sum([e1 * e2 for e1, e2 in zip(values_between_thresholds, differences)]) / sum(differences)\n",
    "    \n",
    "print('real Y value :   {0:.3f}'.format(test_hundred_dataset.iloc[rand_index]['reg_goal_var']))\n",
    "\n",
    "print('predicted mean : {0:.3f}'.format(custom_prediction), '(diff = {0:.3f})'.format(np.abs(custom_prediction - test_hundred_dataset.iloc[rand_index]['reg_goal_var'])))\n",
    "print('Largest diff :   {0:.3f}'.format(hundred_thresholds_real_values[np.argmax(differences)]), '(diff = {0:.3f})'.format(np.abs(hundred_thresholds_real_values[np.argmax(differences)] - test_hundred_dataset.iloc[rand_index]['reg_goal_var'])))\n",
    "\n",
    "plt.plot(hundred_thresholds_real_values, model_prediction_for_all_the_thresholds, marker='x')\n",
    "plt.axvline(x=test_hundred_dataset.iloc[rand_index]['reg_goal_var'], color='k', linestyle='--')\n",
    "plt.axvline(x=custom_prediction, color='r', linestyle='--')"
   ]
  },
  {
   "cell_type": "code",
   "execution_count": 15,
   "id": "38ec6e3f",
   "metadata": {
    "scrolled": false
   },
   "outputs": [
    {
     "data": {
      "text/plain": [
       "<AxesSubplot:xlabel='x', ylabel='y'>"
      ]
     },
     "execution_count": 15,
     "metadata": {},
     "output_type": "execute_result"
    },
    {
     "data": {
      "image/png": "[encoded data removed]",
      "text/plain": [
       "<Figure size 432x288 with 1 Axes>"
      ]
     },
     "metadata": {
      "needs_background": "light"
     },
     "output_type": "display_data"
    }
   ],
   "source": [
    "fig, (axes) = plt.subplots(1, 1) #, figsize=(10, 10)\n",
    "axes.set_ylim([0, 1])\n",
    "sns.barplot(x='x', y='y', data = pd.DataFrame({'x': values_between_thresholds, 'y': differences}))"
   ]
  },
  {
   "cell_type": "code",
   "execution_count": 16,
   "id": "7811c2dc",
   "metadata": {
    "scrolled": true
   },
   "outputs": [
    {
     "name": "stdout",
     "output_type": "stream",
     "text": [
      "predicted mean : 0.749371\n",
      "real Y value :   0.752\n"
     ]
    },
    {
     "data": {
      "text/plain": [
       "[<matplotlib.lines.Line2D at 0x2ddaaf12c48>]"
      ]
     },
     "execution_count": 16,
     "metadata": {},
     "output_type": "execute_result"
    },
    {
     "data": {
      "image/png": "[encoded data removed]",
      "text/plain": [
       "<Figure size 432x288 with 1 Axes>"
      ]
     },
     "metadata": {
      "needs_background": "light"
     },
     "output_type": "display_data"
    }
   ],
   "source": [
    "differences = []\n",
    "for tmp_index in range(len(y0) - 1):\n",
    "    differences.append(y0[tmp_index + 1] - y0[tmp_index])\n",
    "\n",
    "custom_prediction = np.sum([e1 * e2 for e1, e2 in zip(values_between_thresholds, differences)]) / sum(differences)\n",
    "    \n",
    "print('predicted mean : {0:.6f}'.format(custom_prediction))\n",
    "\n",
    "print('real Y value :   {0:.3f}'.format(test_hundred_dataset.iloc[rand_index]['reg_goal_var'])) \n",
    "\n",
    "plt.plot(hundred_thresholds_real_values, y0, marker='x')"
   ]
  },
  {
   "cell_type": "code",
   "execution_count": null,
   "id": "3df9749d",
   "metadata": {},
   "outputs": [],
   "source": []
  },
  {
   "cell_type": "code",
   "execution_count": null,
   "id": "cc037580",
   "metadata": {},
   "outputs": [],
   "source": []
  },
  {
   "cell_type": "code",
   "execution_count": null,
   "id": "6c5bfa03",
   "metadata": {},
   "outputs": [],
   "source": []
  },
  {
   "cell_type": "code",
   "execution_count": 17,
   "id": "600ab98a",
   "metadata": {},
   "outputs": [],
   "source": [
    "custom_predictions = []\n",
    "largest_diff_predictions = []\n",
    "\n",
    "for classfiers_predictions in test_hundred_thresholds_classifiers_prediction:\n",
    "    model = IsotonicRegression().fit(hundred_thresholds_real_values, classfiers_predictions)\n",
    "\n",
    "    model_prediction_for_all_the_thresholds = model.predict(hundred_thresholds_real_values)\n",
    "\n",
    "    differences = []\n",
    "    for tmp_index in range(len(model_prediction_for_all_the_thresholds) - 1):\n",
    "        differences.append(model_prediction_for_all_the_thresholds[tmp_index + 1] - model_prediction_for_all_the_thresholds[tmp_index])\n",
    "\n",
    "    custom_prediction = np.sum([e1 * e2 for e1, e2 in zip(values_between_thresholds, differences)])\n",
    "    \n",
    "    custom_predictions.append(custom_prediction)\n",
    "    \n",
    "    largest_diff_predictions.append(hundred_thresholds_real_values[np.argmax(differences)])"
   ]
  },
  {
   "cell_type": "code",
   "execution_count": 18,
   "id": "91c3e289",
   "metadata": {
    "scrolled": true
   },
   "outputs": [
    {
     "data": {
      "text/plain": [
       "0.08515731531013027"
      ]
     },
     "execution_count": 18,
     "metadata": {},
     "output_type": "execute_result"
    }
   ],
   "source": [
    "np.mean(np.abs(custom_predictions - test_hundred_dataset['reg_goal_var']))"
   ]
  },
  {
   "cell_type": "code",
   "execution_count": 22,
   "id": "0e17778f",
   "metadata": {},
   "outputs": [
    {
     "data": {
      "text/plain": [
       "0.024430474207409132"
      ]
     },
     "execution_count": 22,
     "metadata": {},
     "output_type": "execute_result"
    }
   ],
   "source": [
    "np.mean(np.abs(largest_diff_predictions - test_hundred_dataset['reg_goal_var']))"
   ]
  },
  {
   "cell_type": "code",
   "execution_count": 19,
   "id": "24d863ce",
   "metadata": {},
   "outputs": [
    {
     "data": {
      "text/plain": [
       "0.24101679633607798"
      ]
     },
     "execution_count": 19,
     "metadata": {},
     "output_type": "execute_result"
    }
   ],
   "source": [
    "np.sqrt(np.sum([(e1 - e2)**2 for e1, e2 in zip(custom_predictions, test_hundred_dataset['reg_goal_var'])]) / len(custom_predictions))"
   ]
  },
  {
   "cell_type": "code",
   "execution_count": 20,
   "id": "4b8aecea",
   "metadata": {},
   "outputs": [
    {
     "data": {
      "text/plain": [
       "0.24101679633607798"
      ]
     },
     "execution_count": 20,
     "metadata": {},
     "output_type": "execute_result"
    }
   ],
   "source": [
    "mean_squared_error(test_hundred_dataset['reg_goal_var'],\n",
    "                   custom_predictions,\n",
    "                   squared=False)"
   ]
  },
  {
   "cell_type": "code",
   "execution_count": 21,
   "id": "02dab858",
   "metadata": {},
   "outputs": [
    {
     "data": {
      "text/plain": [
       "0.06789235246877269"
      ]
     },
     "execution_count": 21,
     "metadata": {},
     "output_type": "execute_result"
    }
   ],
   "source": [
    "mean_squared_error(test_hundred_dataset['reg_goal_var'],\n",
    "                   largest_diff_predictions,\n",
    "                   squared=False)"
   ]
  }
 ],
 "metadata": {
  "kernelspec": {
   "display_name": "Python 3",
   "language": "python",
   "name": "python3"
  },
  "language_info": {
   "codemirror_mode": {
    "name": "ipython",
    "version": 3
   },
   "file_extension": ".py",
   "mimetype": "text/x-python",
   "name": "python",
   "nbconvert_exporter": "python",
   "pygments_lexer": "ipython3",
   "version": "3.7.9"
  }
 },
 "nbformat": 4,
 "nbformat_minor": 5
}
