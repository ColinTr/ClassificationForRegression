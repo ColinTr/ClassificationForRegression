{
 "cells": [
  {
   "cell_type": "markdown",
   "id": "312e822c",
   "metadata": {},
   "source": [
    "## Packages import"
   ]
  },
  {
   "cell_type": "code",
   "execution_count": 1,
   "id": "8a5a9a8a",
   "metadata": {},
   "outputs": [],
   "source": [
    "import os\n",
    "import sys\n",
    "import glob\n",
    "import math\n",
    "import numpy as np\n",
    "import pandas as pd\n",
    "import seaborn as sns\n",
    "import matplotlib.pyplot as plt\n",
    "%matplotlib inline\n",
    "\n",
    "from xgboost import XGBRegressor\n",
    "from pykhiops.sklearn import KhiopsRegressor\n",
    "from sklearn.tree import DecisionTreeRegressor\n",
    "from sklearn.linear_model import LinearRegression\n",
    "from sklearn.ensemble import RandomForestRegressor"
   ]
  },
  {
   "cell_type": "code",
   "execution_count": 2,
   "id": "e4d8c2fd",
   "metadata": {},
   "outputs": [],
   "source": [
    "dataset_name = 'Combined_Cycle_Power_Plant_Dataset'\n",
    "n_thresholds = 32\n",
    "classifier_folder = 'RandomForest_classifier'"
   ]
  },
  {
   "cell_type": "code",
   "execution_count": 3,
   "id": "6eb0efc4",
   "metadata": {},
   "outputs": [],
   "source": [
    "def load_dataset(path):\n",
    "    folds_directories = [f.path for f in os.scandir(path)]\n",
    "\n",
    "    datasets_list = []\n",
    "\n",
    "    for fold_path in folds_directories:\n",
    "        datasets_list.append(pd.read_csv(fold_path))\n",
    "        \n",
    "    return datasets_list"
   ]
  },
  {
   "cell_type": "markdown",
   "id": "82f888f8",
   "metadata": {},
   "source": [
    "## Conditional Cumulative Density Function"
   ]
  },
  {
   "cell_type": "code",
   "execution_count": 4,
   "id": "4d29be96",
   "metadata": {
    "scrolled": true
   },
   "outputs": [
    {
     "data": {
      "text/html": [
       "<div>\n",
       "<style scoped>\n",
       "    .dataframe tbody tr th:only-of-type {\n",
       "        vertical-align: middle;\n",
       "    }\n",
       "\n",
       "    .dataframe tbody tr th {\n",
       "        vertical-align: top;\n",
       "    }\n",
       "\n",
       "    .dataframe thead th {\n",
       "        text-align: right;\n",
       "    }\n",
       "</style>\n",
       "<table border=\"1\" class=\"dataframe\">\n",
       "  <thead>\n",
       "    <tr style=\"text-align: right;\">\n",
       "      <th></th>\n",
       "      <th>0</th>\n",
       "      <th>1</th>\n",
       "      <th>2</th>\n",
       "      <th>3</th>\n",
       "      <th>class_0</th>\n",
       "      <th>class_1</th>\n",
       "      <th>class_2</th>\n",
       "      <th>class_3</th>\n",
       "      <th>class_4</th>\n",
       "      <th>class_5</th>\n",
       "      <th>...</th>\n",
       "      <th>threshold_27_P(C_0|X)</th>\n",
       "      <th>threshold_27_P(C_1|X)</th>\n",
       "      <th>threshold_28_P(C_0|X)</th>\n",
       "      <th>threshold_28_P(C_1|X)</th>\n",
       "      <th>threshold_29_P(C_0|X)</th>\n",
       "      <th>threshold_29_P(C_1|X)</th>\n",
       "      <th>threshold_30_P(C_0|X)</th>\n",
       "      <th>threshold_30_P(C_1|X)</th>\n",
       "      <th>threshold_31_P(C_0|X)</th>\n",
       "      <th>threshold_31_P(C_1|X)</th>\n",
       "    </tr>\n",
       "  </thead>\n",
       "  <tbody>\n",
       "    <tr>\n",
       "      <th>0</th>\n",
       "      <td>0.03384</td>\n",
       "      <td>0.3643</td>\n",
       "      <td>0.1569</td>\n",
       "      <td>-0.4807</td>\n",
       "      <td>0</td>\n",
       "      <td>0</td>\n",
       "      <td>0</td>\n",
       "      <td>0</td>\n",
       "      <td>0</td>\n",
       "      <td>0</td>\n",
       "      <td>...</td>\n",
       "      <td>0.00</td>\n",
       "      <td>1.00</td>\n",
       "      <td>0.0</td>\n",
       "      <td>1.0</td>\n",
       "      <td>0.0</td>\n",
       "      <td>1.0</td>\n",
       "      <td>0.0</td>\n",
       "      <td>1.0</td>\n",
       "      <td>0.0</td>\n",
       "      <td>1.0</td>\n",
       "    </tr>\n",
       "    <tr>\n",
       "      <th>1</th>\n",
       "      <td>-0.75630</td>\n",
       "      <td>-1.1610</td>\n",
       "      <td>-0.3440</td>\n",
       "      <td>1.4550</td>\n",
       "      <td>0</td>\n",
       "      <td>0</td>\n",
       "      <td>0</td>\n",
       "      <td>0</td>\n",
       "      <td>0</td>\n",
       "      <td>0</td>\n",
       "      <td>...</td>\n",
       "      <td>0.07</td>\n",
       "      <td>0.93</td>\n",
       "      <td>0.0</td>\n",
       "      <td>1.0</td>\n",
       "      <td>0.0</td>\n",
       "      <td>1.0</td>\n",
       "      <td>0.0</td>\n",
       "      <td>1.0</td>\n",
       "      <td>0.0</td>\n",
       "      <td>1.0</td>\n",
       "    </tr>\n",
       "    <tr>\n",
       "      <th>2</th>\n",
       "      <td>-0.76700</td>\n",
       "      <td>-1.2490</td>\n",
       "      <td>0.3242</td>\n",
       "      <td>-1.2330</td>\n",
       "      <td>0</td>\n",
       "      <td>0</td>\n",
       "      <td>0</td>\n",
       "      <td>0</td>\n",
       "      <td>0</td>\n",
       "      <td>0</td>\n",
       "      <td>...</td>\n",
       "      <td>0.00</td>\n",
       "      <td>1.00</td>\n",
       "      <td>0.0</td>\n",
       "      <td>1.0</td>\n",
       "      <td>0.0</td>\n",
       "      <td>1.0</td>\n",
       "      <td>0.0</td>\n",
       "      <td>1.0</td>\n",
       "      <td>0.0</td>\n",
       "      <td>1.0</td>\n",
       "    </tr>\n",
       "    <tr>\n",
       "      <th>3</th>\n",
       "      <td>0.34230</td>\n",
       "      <td>-1.0420</td>\n",
       "      <td>-1.9070</td>\n",
       "      <td>-2.1020</td>\n",
       "      <td>0</td>\n",
       "      <td>0</td>\n",
       "      <td>0</td>\n",
       "      <td>0</td>\n",
       "      <td>0</td>\n",
       "      <td>0</td>\n",
       "      <td>...</td>\n",
       "      <td>0.00</td>\n",
       "      <td>1.00</td>\n",
       "      <td>0.0</td>\n",
       "      <td>1.0</td>\n",
       "      <td>0.0</td>\n",
       "      <td>1.0</td>\n",
       "      <td>0.0</td>\n",
       "      <td>1.0</td>\n",
       "      <td>0.0</td>\n",
       "      <td>1.0</td>\n",
       "    </tr>\n",
       "    <tr>\n",
       "      <th>4</th>\n",
       "      <td>0.55960</td>\n",
       "      <td>1.6220</td>\n",
       "      <td>0.6167</td>\n",
       "      <td>-0.1267</td>\n",
       "      <td>0</td>\n",
       "      <td>0</td>\n",
       "      <td>0</td>\n",
       "      <td>0</td>\n",
       "      <td>0</td>\n",
       "      <td>0</td>\n",
       "      <td>...</td>\n",
       "      <td>0.00</td>\n",
       "      <td>1.00</td>\n",
       "      <td>0.0</td>\n",
       "      <td>1.0</td>\n",
       "      <td>0.0</td>\n",
       "      <td>1.0</td>\n",
       "      <td>0.0</td>\n",
       "      <td>1.0</td>\n",
       "      <td>0.0</td>\n",
       "      <td>1.0</td>\n",
       "    </tr>\n",
       "  </tbody>\n",
       "</table>\n",
       "<p>5 rows × 101 columns</p>\n",
       "</div>"
      ],
      "text/plain": [
       "         0       1       2       3  class_0  class_1  class_2  class_3  \\\n",
       "0  0.03384  0.3643  0.1569 -0.4807        0        0        0        0   \n",
       "1 -0.75630 -1.1610 -0.3440  1.4550        0        0        0        0   \n",
       "2 -0.76700 -1.2490  0.3242 -1.2330        0        0        0        0   \n",
       "3  0.34230 -1.0420 -1.9070 -2.1020        0        0        0        0   \n",
       "4  0.55960  1.6220  0.6167 -0.1267        0        0        0        0   \n",
       "\n",
       "   class_4  class_5  ...  threshold_27_P(C_0|X)  threshold_27_P(C_1|X)  \\\n",
       "0        0        0  ...                   0.00                   1.00   \n",
       "1        0        0  ...                   0.07                   0.93   \n",
       "2        0        0  ...                   0.00                   1.00   \n",
       "3        0        0  ...                   0.00                   1.00   \n",
       "4        0        0  ...                   0.00                   1.00   \n",
       "\n",
       "   threshold_28_P(C_0|X)  threshold_28_P(C_1|X)  threshold_29_P(C_0|X)  \\\n",
       "0                    0.0                    1.0                    0.0   \n",
       "1                    0.0                    1.0                    0.0   \n",
       "2                    0.0                    1.0                    0.0   \n",
       "3                    0.0                    1.0                    0.0   \n",
       "4                    0.0                    1.0                    0.0   \n",
       "\n",
       "   threshold_29_P(C_1|X)  threshold_30_P(C_0|X)  threshold_30_P(C_1|X)  \\\n",
       "0                    1.0                    0.0                    1.0   \n",
       "1                    1.0                    0.0                    1.0   \n",
       "2                    1.0                    0.0                    1.0   \n",
       "3                    1.0                    0.0                    1.0   \n",
       "4                    1.0                    0.0                    1.0   \n",
       "\n",
       "   threshold_31_P(C_0|X)  threshold_31_P(C_1|X)  \n",
       "0                    0.0                    1.0  \n",
       "1                    0.0                    1.0  \n",
       "2                    0.0                    1.0  \n",
       "3                    0.0                    1.0  \n",
       "4                    0.0                    1.0  \n",
       "\n",
       "[5 rows x 101 columns]"
      ]
     },
     "execution_count": 4,
     "metadata": {},
     "output_type": "execute_result"
    }
   ],
   "source": [
    "split_0_extracted_features_dataset = load_dataset(os.path.join('..', 'data', 'extracted_features', dataset_name, str(n_thresholds) + '_bins_equal_freq_below_threshold', classifier_folder))[0]\n",
    "\n",
    "split_0_dataset_length = split_0_extracted_features_dataset.shape[0]\n",
    "\n",
    "split_0_extracted_features_dataset.head()"
   ]
  },
  {
   "cell_type": "markdown",
   "id": "0ca3b949",
   "metadata": {},
   "source": [
    "### Empirical observation"
   ]
  },
  {
   "cell_type": "code",
   "execution_count": 5,
   "id": "be208002",
   "metadata": {},
   "outputs": [],
   "source": [
    "thresholds_empirical_share = []\n",
    "\n",
    "for class_col in [e for e in split_0_extracted_features_dataset.columns if 'class' in e.split('_')]:\n",
    "    thresholds_empirical_share.append(np.sum(split_0_extracted_features_dataset[class_col]) / split_0_dataset_length)"
   ]
  },
  {
   "cell_type": "code",
   "execution_count": 6,
   "id": "bd54eb76",
   "metadata": {
    "scrolled": true
   },
   "outputs": [
    {
     "data": {
      "text/plain": [
       "[0.03134796238244514,\n",
       " 0.06687565308254964,\n",
       " 0.09926854754440961,\n",
       " 0.11912225705329153,\n",
       " 0.15151515151515152,\n",
       " 0.18181818181818182,\n",
       " 0.2110762800417973,\n",
       " 0.2413793103448276,\n",
       " 0.2664576802507837,\n",
       " 0.296760710553814,\n",
       " 0.31452455590386624,\n",
       " 0.34273772204806685,\n",
       " 0.3657262277951933,\n",
       " 0.3949843260188088,\n",
       " 0.4211076280041797,\n",
       " 0.45454545454545453,\n",
       " 0.48066875653082547,\n",
       " 0.522466039707419,\n",
       " 0.5632183908045977,\n",
       " 0.5841170323928945,\n",
       " 0.6185997910135841,\n",
       " 0.6541274817136886,\n",
       " 0.6844305120167189,\n",
       " 0.7105538140020898,\n",
       " 0.7450365726227796,\n",
       " 0.7826541274817137,\n",
       " 0.8108672936259144,\n",
       " 0.8443051201671892,\n",
       " 0.877742946708464,\n",
       " 0.9049111807732497,\n",
       " 0.9331243469174504,\n",
       " 0.9728317659352143]"
      ]
     },
     "execution_count": 6,
     "metadata": {},
     "output_type": "execute_result"
    }
   ],
   "source": [
    "thresholds_empirical_share"
   ]
  },
  {
   "cell_type": "markdown",
   "id": "5f1f8d3d",
   "metadata": {},
   "source": [
    "### Classifier's estimation"
   ]
  },
  {
   "cell_type": "code",
   "execution_count": 7,
   "id": "bd8fb565",
   "metadata": {},
   "outputs": [],
   "source": [
    "thresholds_mean_prediction = []\n",
    "\n",
    "for class_col in [e for e in split_0_extracted_features_dataset.columns if 'threshold' in e.split('_') and '1|X)' in e.split('_')]:\n",
    "    thresholds_mean_prediction.append(np.mean(split_0_extracted_features_dataset[class_col]))"
   ]
  },
  {
   "cell_type": "code",
   "execution_count": 8,
   "id": "29077d06",
   "metadata": {
    "scrolled": true
   },
   "outputs": [
    {
     "data": {
      "text/plain": [
       "[0.035402298850574755,\n",
       " 0.06468129571577849,\n",
       " 0.09515151515151517,\n",
       " 0.12359456635318715,\n",
       " 0.153866248693835,\n",
       " 0.18167189132706366,\n",
       " 0.20713688610240327,\n",
       " 0.23772204806687555,\n",
       " 0.2650470219435737,\n",
       " 0.2926854754440958,\n",
       " 0.32342737722048037,\n",
       " 0.34957157784744003,\n",
       " 0.3770114942528735,\n",
       " 0.4005329153605017,\n",
       " 0.42734587251828654,\n",
       " 0.4547230929989556,\n",
       " 0.48816091954023005,\n",
       " 0.5256844305120166,\n",
       " 0.5574817136886099,\n",
       " 0.5875130616509923,\n",
       " 0.6170114942528728,\n",
       " 0.6509195402298849,\n",
       " 0.6825287356321829,\n",
       " 0.7141692789968651,\n",
       " 0.7471995820271684,\n",
       " 0.7775653082549634,\n",
       " 0.8072831765935218,\n",
       " 0.8421734587251831,\n",
       " 0.8694148380355278,\n",
       " 0.8993312434691749,\n",
       " 0.9337513061650999,\n",
       " 0.9729467084639507]"
      ]
     },
     "execution_count": 8,
     "metadata": {},
     "output_type": "execute_result"
    }
   ],
   "source": [
    "thresholds_mean_prediction"
   ]
  },
  {
   "cell_type": "markdown",
   "id": "c01459a4",
   "metadata": {},
   "source": [
    "### mean absolute difference"
   ]
  },
  {
   "cell_type": "code",
   "execution_count": 9,
   "id": "4277dd47",
   "metadata": {},
   "outputs": [
    {
     "data": {
      "text/plain": [
       "0.0004313610240334459"
      ]
     },
     "execution_count": 9,
     "metadata": {},
     "output_type": "execute_result"
    }
   ],
   "source": [
    "np.abs(np.mean(np.array(thresholds_empirical_share) - np.array(thresholds_mean_prediction)))"
   ]
  },
  {
   "cell_type": "markdown",
   "id": "f29c832d",
   "metadata": {},
   "source": [
    "### Plot the values"
   ]
  },
  {
   "cell_type": "code",
   "execution_count": 10,
   "id": "52d6ee28",
   "metadata": {},
   "outputs": [
    {
     "data": {
      "image/png": "[encoded data removed]",
      "text/plain": [
       "<Figure size 432x288 with 1 Axes>"
      ]
     },
     "metadata": {
      "needs_background": "light"
     },
     "output_type": "display_data"
    }
   ],
   "source": [
    "x_axis = ['S' + str(e) for e in list(range(n_thresholds))]\n",
    "\n",
    "plt.plot(x_axis, thresholds_empirical_share, linestyle='-', marker='o', label='ground truth')\n",
    "plt.plot(x_axis, thresholds_mean_prediction, linestyle='-', marker='o', label='estimation')\n",
    "\n",
    "axes = plt.gca()\n",
    "axes.set_ylim([0, 1])\n",
    "axes.set_xlabel('threshold')\n",
    "axes.set_ylabel('P(Y<S_i|X)')\n",
    "axes.legend()\n",
    "\n",
    "plt.show()"
   ]
  },
  {
   "cell_type": "markdown",
   "id": "9ca43b4c",
   "metadata": {},
   "source": [
    "## Is there a correlation between the quality of the classification and the improvement that our method brings ?"
   ]
  },
  {
   "cell_type": "code",
   "execution_count": 11,
   "id": "371ea034",
   "metadata": {},
   "outputs": [],
   "source": [
    "regressor_name = 'LinearRegression_regressor'\n",
    "regressor_name = 'DecisionTree_regressor'"
   ]
  },
  {
   "cell_type": "code",
   "execution_count": 12,
   "id": "2f2d682a",
   "metadata": {},
   "outputs": [],
   "source": [
    "lrR_DecisionTree_metrics_dataset = load_dataset(os.path.join('..', 'data', 'metrics', dataset_name, '32_bins_equal_freq_below_threshold', 'DecisionTree_classifier', regressor_name))[0]\n",
    "lrR_Khiops_metrics_dataset = load_dataset(os.path.join('..', 'data', 'metrics', dataset_name, '32_bins_equal_freq_below_threshold', 'Khiops_classifier', regressor_name))[0]\n",
    "lrR_LogisticRegression_metrics_dataset = load_dataset(os.path.join('..', 'data', 'metrics', dataset_name, '32_bins_equal_freq_below_threshold', 'LogisticRegression_classifier', regressor_name))[0]\n",
    "lrR_RandomForest_metrics_dataset = load_dataset(os.path.join('..', 'data', 'metrics', dataset_name, '32_bins_equal_freq_below_threshold', 'RandomForest_classifier', regressor_name))[0]\n",
    "lrR_XGBoost_metrics_dataset = load_dataset(os.path.join('..', 'data', 'metrics', dataset_name, '32_bins_equal_freq_below_threshold', 'XGBoost_classifier', regressor_name))[0]"
   ]
  },
  {
   "cell_type": "markdown",
   "id": "93ab0cf4",
   "metadata": {},
   "source": [
    "### AUROC"
   ]
  },
  {
   "cell_type": "code",
   "execution_count": 13,
   "id": "e57e7847",
   "metadata": {
    "scrolled": true
   },
   "outputs": [
    {
     "name": "stdout",
     "output_type": "stream",
     "text": [
      "test_mean_AUROC_lrR_DecisionTree = 0.9014335075446132\n",
      "test_mean_AUROC_lrR_Khiops = 0.9823478205426166\n",
      "test_mean_AUROC_lrR_LogisticRegression = 0.9790851665106158\n",
      "test_mean_AUROC_lrR_RandomForest = 0.98708237252711\n",
      "test_mean_AUROC_lrR_XGBoost = 0.9883990759008053\n"
     ]
    }
   ],
   "source": [
    "test_mean_AUROC_lrR_DecisionTree = np.mean(lrR_DecisionTree_metrics_dataset['test_mean_roc_auc_score'])\n",
    "print('test_mean_AUROC_lrR_DecisionTree =', test_mean_AUROC_lrR_DecisionTree)\n",
    "\n",
    "test_mean_AUROC_lrR_Khiops = np.mean(lrR_Khiops_metrics_dataset['test_mean_roc_auc_score'])\n",
    "print('test_mean_AUROC_lrR_Khiops =', test_mean_AUROC_lrR_Khiops)\n",
    "\n",
    "test_mean_AUROC_lrR_LogisticRegression = np.mean(lrR_LogisticRegression_metrics_dataset['test_mean_roc_auc_score'])\n",
    "print('test_mean_AUROC_lrR_LogisticRegression =', test_mean_AUROC_lrR_LogisticRegression)\n",
    "\n",
    "test_mean_AUROC_lrR_RandomForest = np.mean(lrR_RandomForest_metrics_dataset['test_mean_roc_auc_score'])\n",
    "print('test_mean_AUROC_lrR_RandomForest =', test_mean_AUROC_lrR_RandomForest)\n",
    "\n",
    "test_mean_AUROC_lrR_XGBoost = np.mean(lrR_XGBoost_metrics_dataset['test_mean_roc_auc_score'])\n",
    "print('test_mean_AUROC_lrR_XGBoost =', test_mean_AUROC_lrR_XGBoost)"
   ]
  },
  {
   "cell_type": "markdown",
   "id": "e9caf4be",
   "metadata": {},
   "source": [
    "### F1 score"
   ]
  },
  {
   "cell_type": "code",
   "execution_count": 14,
   "id": "c0f70f98",
   "metadata": {},
   "outputs": [
    {
     "name": "stdout",
     "output_type": "stream",
     "text": [
      "test_mean_F1_lrR_DecisionTree = 0.886282784056997\n",
      "test_mean_F1_lrR_Khiops = 0.8743549058538468\n",
      "test_mean_F1_lrR_LogisticRegression = 0.8513467454761582\n",
      "test_mean_F1_lrR_RandomForest = 0.9114008580564086\n",
      "test_mean_F1_lrR_XGBoost = 0.9159108654094299\n"
     ]
    }
   ],
   "source": [
    "test_mean_F1_lrR_DecisionTree = np.mean(lrR_DecisionTree_metrics_dataset['test_mean_f1_score'])\n",
    "print('test_mean_F1_lrR_DecisionTree =', test_mean_F1_lrR_DecisionTree)\n",
    "\n",
    "test_mean_F1_lrR_Khiops = np.mean(lrR_Khiops_metrics_dataset['test_mean_f1_score'])\n",
    "print('test_mean_F1_lrR_Khiops =', test_mean_F1_lrR_Khiops)\n",
    "\n",
    "test_mean_F1_lrR_LogisticRegression = np.mean(lrR_LogisticRegression_metrics_dataset['test_mean_f1_score'])\n",
    "print('test_mean_F1_lrR_LogisticRegression =', test_mean_F1_lrR_LogisticRegression)\n",
    "\n",
    "test_mean_F1_lrR_RandomForest = np.mean(lrR_RandomForest_metrics_dataset['test_mean_f1_score'])\n",
    "print('test_mean_F1_lrR_RandomForest =', test_mean_F1_lrR_RandomForest)\n",
    "\n",
    "test_mean_F1_lrR_XGBoost = np.mean(lrR_XGBoost_metrics_dataset['test_mean_f1_score'])\n",
    "print('test_mean_F1_lrR_XGBoost =', test_mean_F1_lrR_XGBoost)"
   ]
  },
  {
   "cell_type": "markdown",
   "id": "fce44b94",
   "metadata": {},
   "source": [
    "### RMSE"
   ]
  },
  {
   "cell_type": "code",
   "execution_count": 15,
   "id": "0fd493be",
   "metadata": {
    "scrolled": true
   },
   "outputs": [
    {
     "name": "stdout",
     "output_type": "stream",
     "text": [
      "test_mean_RMSE_lrR_DecisionTree = 0.9014335075446132\n",
      "test_mean_RMSE_lrR_Khiops = 0.9823478205426166\n",
      "test_mean_RMSE_lrR_LogisticRegression = 0.9790851665106158\n",
      "test_mean_RMSE_lrR_RandomForest = 0.98708237252711\n",
      "test_mean_RMSE_lrR_XGBoost = 0.9883990759008053\n"
     ]
    }
   ],
   "source": [
    "test_mean_RMSE_lrR_DecisionTree = np.mean(lrR_DecisionTree_metrics_dataset['test_root_mean_squared_error'])\n",
    "print('test_mean_RMSE_lrR_DecisionTree =', test_mean_AUROC_lrR_DecisionTree)\n",
    "\n",
    "test_mean_RMSE_lrR_Khiops = np.mean(lrR_Khiops_metrics_dataset['test_root_mean_squared_error'])\n",
    "print('test_mean_RMSE_lrR_Khiops =', test_mean_AUROC_lrR_Khiops)\n",
    "\n",
    "test_mean_RMSE_lrR_LogisticRegression = np.mean(lrR_LogisticRegression_metrics_dataset['test_root_mean_squared_error'])\n",
    "print('test_mean_RMSE_lrR_LogisticRegression =', test_mean_AUROC_lrR_LogisticRegression)\n",
    "\n",
    "test_mean_RMSE_lrR_RandomForest = np.mean(lrR_RandomForest_metrics_dataset['test_root_mean_squared_error'])\n",
    "print('test_mean_RMSE_lrR_RandomForest =', test_mean_AUROC_lrR_RandomForest)\n",
    "\n",
    "test_mean_RMSE_lrR_XGBoost = np.mean(lrR_XGBoost_metrics_dataset['test_root_mean_squared_error'])\n",
    "print('test_mean_RMSE_lrR_XGBoost =', test_mean_AUROC_lrR_XGBoost)"
   ]
  },
  {
   "cell_type": "code",
   "execution_count": 16,
   "id": "6f1180b9",
   "metadata": {},
   "outputs": [],
   "source": [
    "AUROC_list = [test_mean_AUROC_lrR_DecisionTree,\n",
    "              test_mean_AUROC_lrR_Khiops,\n",
    "              test_mean_AUROC_lrR_LogisticRegression,\n",
    "              test_mean_AUROC_lrR_RandomForest,\n",
    "              test_mean_AUROC_lrR_XGBoost]\n",
    "\n",
    "F1_list = [test_mean_F1_lrR_DecisionTree,\n",
    "           test_mean_F1_lrR_Khiops,\n",
    "           test_mean_F1_lrR_LogisticRegression,\n",
    "           test_mean_F1_lrR_RandomForest,\n",
    "           test_mean_F1_lrR_XGBoost]\n",
    "\n",
    "RMSE_list = [test_mean_RMSE_lrR_DecisionTree,\n",
    "             test_mean_RMSE_lrR_Khiops,\n",
    "             test_mean_RMSE_lrR_LogisticRegression,\n",
    "             test_mean_RMSE_lrR_RandomForest,\n",
    "             test_mean_RMSE_lrR_XGBoost]"
   ]
  },
  {
   "cell_type": "code",
   "execution_count": 17,
   "id": "66063e26",
   "metadata": {
    "scrolled": true
   },
   "outputs": [
    {
     "data": {
      "text/plain": [
       "[0.9014335075446132,\n",
       " 0.9823478205426166,\n",
       " 0.9790851665106158,\n",
       " 0.98708237252711,\n",
       " 0.9883990759008053]"
      ]
     },
     "execution_count": 17,
     "metadata": {},
     "output_type": "execute_result"
    }
   ],
   "source": [
    "AUROC_list"
   ]
  },
  {
   "cell_type": "code",
   "execution_count": 18,
   "id": "df04b987",
   "metadata": {},
   "outputs": [
    {
     "data": {
      "text/plain": [
       "[0.886282784056997,\n",
       " 0.8743549058538468,\n",
       " 0.8513467454761582,\n",
       " 0.9114008580564086,\n",
       " 0.9159108654094299]"
      ]
     },
     "execution_count": 18,
     "metadata": {},
     "output_type": "execute_result"
    }
   ],
   "source": [
    "F1_list"
   ]
  },
  {
   "cell_type": "code",
   "execution_count": 19,
   "id": "a40502ea",
   "metadata": {
    "scrolled": true
   },
   "outputs": [
    {
     "data": {
      "text/plain": [
       "[0.25146285043847405,\n",
       " 0.24155321706616945,\n",
       " 0.26363257924785544,\n",
       " 0.20233135968508714,\n",
       " 0.20018635372393812]"
      ]
     },
     "execution_count": 19,
     "metadata": {},
     "output_type": "execute_result"
    }
   ],
   "source": [
    "RMSE_list"
   ]
  },
  {
   "cell_type": "markdown",
   "id": "4e91c811",
   "metadata": {},
   "source": [
    "### Plot the values"
   ]
  },
  {
   "cell_type": "code",
   "execution_count": 20,
   "id": "c862c4b7",
   "metadata": {
    "scrolled": false
   },
   "outputs": [
    {
     "data": {
      "image/png": "[encoded data removed]",
      "text/plain": [
       "<Figure size 432x288 with 1 Axes>"
      ]
     },
     "metadata": {
      "needs_background": "light"
     },
     "output_type": "display_data"
    }
   ],
   "source": [
    "plt.plot(AUROC_list, RMSE_list, linestyle='', marker='o')\n",
    "\n",
    "axes = plt.gca()\n",
    "axes.set_xlabel('AUROC score')\n",
    "axes.set_ylabel('RMSE')\n",
    "\n",
    "plt.show()"
   ]
  },
  {
   "cell_type": "code",
   "execution_count": 21,
   "id": "cc933d3f",
   "metadata": {},
   "outputs": [
    {
     "data": {
      "text/plain": [
       "-0.4687652467873429"
      ]
     },
     "execution_count": 21,
     "metadata": {},
     "output_type": "execute_result"
    }
   ],
   "source": [
    "# Correlation of the AUROC and RMSE metrics\n",
    "np.corrcoef(AUROC_list, RMSE_list)[0, 1]"
   ]
  },
  {
   "cell_type": "code",
   "execution_count": 22,
   "id": "53def588",
   "metadata": {},
   "outputs": [
    {
     "data": {
      "image/png": "[encoded data removed]",
      "text/plain": [
       "<Figure size 432x288 with 1 Axes>"
      ]
     },
     "metadata": {
      "needs_background": "light"
     },
     "output_type": "display_data"
    }
   ],
   "source": [
    "plt.plot(F1_list, RMSE_list, linestyle='', marker='o')\n",
    "\n",
    "axes = plt.gca()\n",
    "axes.set_xlabel('F1 score')\n",
    "axes.set_ylabel('RMSE')\n",
    "\n",
    "plt.show()"
   ]
  },
  {
   "cell_type": "code",
   "execution_count": 23,
   "id": "2cbfdbfa",
   "metadata": {},
   "outputs": [
    {
     "data": {
      "text/plain": [
       "-0.9370361719026805"
      ]
     },
     "execution_count": 23,
     "metadata": {},
     "output_type": "execute_result"
    }
   ],
   "source": [
    "# Correlation of the F1 score and RMSE metrics\n",
    "np.corrcoef(F1_list, RMSE_list)[0, 1]"
   ]
  },
  {
   "cell_type": "code",
   "execution_count": 117,
   "id": "98142a8b",
   "metadata": {},
   "outputs": [],
   "source": [
    "def plot_F1_RMSE_curve(dataset_name, regressor_name, add_classifiers_labels='True', n_thresholds='32'):\n",
    "    metrics_to_keep = []\n",
    "    \n",
    "    classifiers_directories = [f.path for f in os.scandir(os.path.join('..', 'data', 'metrics', dataset_name, n_thresholds + '_bins_equal_freq_below_threshold'))]\n",
    "\n",
    "    for classifier_directory in classifiers_directories:\n",
    "        #if classifier_directory.split(os.path.sep)[-1] != 'DecisionTree_classifier':\n",
    "        regressors_directories = [f.path for f in os.scandir(classifier_directory)]\n",
    "        \n",
    "        for e in regressors_directories:\n",
    "            if regressor_name == e.split(os.path.sep)[-1]:\n",
    "                metrics_to_keep.append(e)\n",
    "                \n",
    "    tmp_AUROC_list = []\n",
    "    tmp_RMSE_list = []\n",
    "    tmp_F1_list = []\n",
    "    classifiers_labels = []\n",
    "    \n",
    "    for path in metrics_to_keep:\n",
    "        classifiers_labels.append(path.split(os.path.sep)[-2].split('_')[0])\n",
    "        tmp_dataset = load_dataset(path)[0]\n",
    "        \n",
    "        tmp_RMSE_list.append(np.mean(tmp_dataset['test_root_mean_squared_error']))\n",
    "        tmp_AUROC_list.append(np.mean(tmp_dataset['test_mean_roc_auc_score']))\n",
    "        tmp_F1_list.append(np.mean(tmp_dataset['test_mean_f1_score']))\n",
    "        \n",
    "    if add_classifiers_labels == 'True':\n",
    "        fig, (ax1, ax2) = plt.subplots(1, 2, figsize=(10, 4))\n",
    "    else:\n",
    "        fig, (ax1, ax2) = plt.subplots(1, 2, figsize=(8, 4))\n",
    "    \n",
    "    ax1.plot(tmp_AUROC_list, tmp_RMSE_list, linestyle='', marker='o')\n",
    "    ax1.set_title(\"corr={0:.3f}\".format(np.corrcoef(tmp_AUROC_list, tmp_RMSE_list)[0, 1]))\n",
    "    ax1.set_xlabel('AUROC score')\n",
    "    ax1.set_ylabel('RMSE')\n",
    "    \n",
    "    ax2.plot(tmp_F1_list, tmp_RMSE_list, linestyle='', marker='o')\n",
    "    ax2.set_title(\"corr={0:.3f}\".format(np.corrcoef(tmp_F1_list, tmp_RMSE_list)[0, 1]))\n",
    "    ax2.set_xlabel('F1 score')\n",
    "    ax2.set_ylabel('RMSE')\n",
    "    \n",
    "    if add_classifiers_labels == 'True':\n",
    "        for i, txt in enumerate(classifiers_labels):\n",
    "            ax1.annotate(txt, (tmp_AUROC_list[i], tmp_RMSE_list[i]))\n",
    "            ax2.annotate(txt, (tmp_F1_list[i], tmp_RMSE_list[i]))\n",
    "    \n",
    "    plt.tight_layout()"
   ]
  },
  {
   "cell_type": "code",
   "execution_count": 119,
   "id": "4f3da49c",
   "metadata": {},
   "outputs": [
    {
     "data": {
      "image/png": "[encoded data removed]",
      "text/plain": [
       "<Figure size 720x288 with 2 Axes>"
      ]
     },
     "metadata": {
      "needs_background": "light"
     },
     "output_type": "display_data"
    }
   ],
   "source": [
    "plot_F1_RMSE_curve('Combined_Cycle_Power_Plant_Dataset', 'LinearRegression_regressor')"
   ]
  },
  {
   "cell_type": "code",
   "execution_count": 110,
   "id": "dfc1a2b8",
   "metadata": {},
   "outputs": [
    {
     "data": {
      "image/png": "[encoded data removed]",
      "text/plain": [
       "<Figure size 720x288 with 2 Axes>"
      ]
     },
     "metadata": {
      "needs_background": "light"
     },
     "output_type": "display_data"
    }
   ],
   "source": [
    "plot_F1_RMSE_curve('Combined_Cycle_Power_Plant_Dataset', 'DecisionTree_regressor')"
   ]
  },
  {
   "cell_type": "code",
   "execution_count": 99,
   "id": "848f0fde",
   "metadata": {},
   "outputs": [
    {
     "data": {
      "image/png": "[encoded data removed]",
      "text/plain": [
       "<Figure size 720x288 with 2 Axes>"
      ]
     },
     "metadata": {
      "needs_background": "light"
     },
     "output_type": "display_data"
    }
   ],
   "source": [
    "plot_F1_RMSE_curve('Combined_Cycle_Power_Plant_Dataset', 'RandomForest_regressor')"
   ]
  },
  {
   "cell_type": "code",
   "execution_count": 100,
   "id": "f16e21c2",
   "metadata": {},
   "outputs": [
    {
     "data": {
      "image/png": "[encoded data removed]",
      "text/plain": [
       "<Figure size 720x288 with 2 Axes>"
      ]
     },
     "metadata": {
      "needs_background": "light"
     },
     "output_type": "display_data"
    }
   ],
   "source": [
    "plot_F1_RMSE_curve('Combined_Cycle_Power_Plant_Dataset', 'XGBoost_regressor')"
   ]
  },
  {
   "cell_type": "code",
   "execution_count": 101,
   "id": "85cf7bfa",
   "metadata": {},
   "outputs": [
    {
     "data": {
      "image/png": "[encoded data removed]",
      "text/plain": [
       "<Figure size 720x288 with 2 Axes>"
      ]
     },
     "metadata": {
      "needs_background": "light"
     },
     "output_type": "display_data"
    }
   ],
   "source": [
    "plot_F1_RMSE_curve('Combined_Cycle_Power_Plant_Dataset', 'Khiops_regressor')"
   ]
  },
  {
   "cell_type": "code",
   "execution_count": null,
   "id": "aa513a13",
   "metadata": {},
   "outputs": [],
   "source": []
  },
  {
   "cell_type": "code",
   "execution_count": null,
   "id": "2b94c2cb",
   "metadata": {},
   "outputs": [],
   "source": []
  },
  {
   "cell_type": "code",
   "execution_count": null,
   "id": "0bc2b654",
   "metadata": {},
   "outputs": [],
   "source": []
  },
  {
   "cell_type": "code",
   "execution_count": null,
   "id": "9188f05c",
   "metadata": {},
   "outputs": [],
   "source": []
  },
  {
   "cell_type": "code",
   "execution_count": null,
   "id": "3894d427",
   "metadata": {},
   "outputs": [],
   "source": []
  },
  {
   "cell_type": "code",
   "execution_count": null,
   "id": "ba547a86",
   "metadata": {},
   "outputs": [],
   "source": []
  },
  {
   "cell_type": "code",
   "execution_count": null,
   "id": "cbf94854",
   "metadata": {},
   "outputs": [],
   "source": []
  },
  {
   "cell_type": "code",
   "execution_count": null,
   "id": "1d98d813",
   "metadata": {},
   "outputs": [],
   "source": []
  },
  {
   "cell_type": "code",
   "execution_count": null,
   "id": "623b72b0",
   "metadata": {},
   "outputs": [],
   "source": []
  },
  {
   "cell_type": "code",
   "execution_count": null,
   "id": "c824fb62",
   "metadata": {},
   "outputs": [],
   "source": []
  },
  {
   "cell_type": "code",
   "execution_count": null,
   "id": "38430eae",
   "metadata": {},
   "outputs": [],
   "source": []
  },
  {
   "cell_type": "code",
   "execution_count": null,
   "id": "3bac8420",
   "metadata": {},
   "outputs": [],
   "source": []
  },
  {
   "cell_type": "code",
   "execution_count": null,
   "id": "a8aa30a5",
   "metadata": {},
   "outputs": [],
   "source": []
  },
  {
   "cell_type": "code",
   "execution_count": null,
   "id": "759884e3",
   "metadata": {},
   "outputs": [],
   "source": []
  },
  {
   "cell_type": "code",
   "execution_count": null,
   "id": "f01dc848",
   "metadata": {},
   "outputs": [],
   "source": []
  },
  {
   "cell_type": "code",
   "execution_count": 106,
   "id": "548edd70",
   "metadata": {},
   "outputs": [
    {
     "name": "stdout",
     "output_type": "stream",
     "text": [
      "<class 'sklearn.ensemble._weight_boosting.AdaBoostClassifier'>\n",
      "<class 'sklearn.ensemble._bagging.BaggingClassifier'>\n",
      "<class 'sklearn.mixture._bayesian_mixture.BayesianGaussianMixture'>\n",
      "<class 'sklearn.naive_bayes.BernoulliNB'>\n",
      "<class 'sklearn.calibration.CalibratedClassifierCV'>\n",
      "<class 'sklearn.naive_bayes.CategoricalNB'>\n",
      "<class 'sklearn.multioutput.ClassifierChain'>\n",
      "<class 'sklearn.naive_bayes.ComplementNB'>\n",
      "<class 'sklearn.tree._classes.DecisionTreeClassifier'>\n",
      "<class 'sklearn.dummy.DummyClassifier'>\n",
      "<class 'sklearn.tree._classes.ExtraTreeClassifier'>\n",
      "<class 'sklearn.ensemble._forest.ExtraTreesClassifier'>\n",
      "<class 'sklearn.mixture._gaussian_mixture.GaussianMixture'>\n",
      "<class 'sklearn.naive_bayes.GaussianNB'>\n",
      "<class 'sklearn.gaussian_process._gpc.GaussianProcessClassifier'>\n",
      "<class 'sklearn.ensemble._gb.GradientBoostingClassifier'>\n",
      "<class 'sklearn.model_selection._search.GridSearchCV'>\n",
      "<class 'sklearn.model_selection._search_successive_halving.HalvingGridSearchCV'>\n",
      "<class 'sklearn.model_selection._search_successive_halving.HalvingRandomSearchCV'>\n",
      "<class 'sklearn.ensemble._hist_gradient_boosting.gradient_boosting.HistGradientBoostingClassifier'>\n",
      "<class 'sklearn.neighbors._classification.KNeighborsClassifier'>\n",
      "<class 'sklearn.semi_supervised._label_propagation.LabelPropagation'>\n",
      "<class 'sklearn.semi_supervised._label_propagation.LabelSpreading'>\n",
      "<class 'sklearn.discriminant_analysis.LinearDiscriminantAnalysis'>\n",
      "<class 'sklearn.linear_model._logistic.LogisticRegression'>\n",
      "<class 'sklearn.linear_model._logistic.LogisticRegressionCV'>\n",
      "<class 'sklearn.neural_network._multilayer_perceptron.MLPClassifier'>\n",
      "<class 'sklearn.multioutput.MultiOutputClassifier'>\n",
      "<class 'sklearn.naive_bayes.MultinomialNB'>\n",
      "<class 'sklearn.svm._classes.NuSVC'>\n",
      "<class 'sklearn.multiclass.OneVsRestClassifier'>\n",
      "<class 'sklearn.pipeline.Pipeline'>\n",
      "<class 'sklearn.discriminant_analysis.QuadraticDiscriminantAnalysis'>\n",
      "<class 'sklearn.feature_selection._rfe.RFE'>\n",
      "<class 'sklearn.feature_selection._rfe.RFECV'>\n",
      "<class 'sklearn.neighbors._classification.RadiusNeighborsClassifier'>\n",
      "<class 'sklearn.ensemble._forest.RandomForestClassifier'>\n",
      "<class 'sklearn.model_selection._search.RandomizedSearchCV'>\n",
      "<class 'sklearn.linear_model._stochastic_gradient.SGDClassifier'>\n",
      "<class 'sklearn.svm._classes.SVC'>\n",
      "<class 'sklearn.semi_supervised._self_training.SelfTrainingClassifier'>\n",
      "<class 'sklearn.ensemble._stacking.StackingClassifier'>\n",
      "<class 'sklearn.ensemble._voting.VotingClassifier'>\n"
     ]
    }
   ],
   "source": [
    "import sklearn\n",
    "estimators = sklearn.utils.all_estimators(type_filter=None)\n",
    "for name, class_ in estimators:\n",
    "    if hasattr(class_, 'predict_proba'):\n",
    "        print(class_)\n",
    "        # print(name)"
   ]
  }
 ],
 "metadata": {
  "kernelspec": {
   "display_name": "Python 3",
   "language": "python",
   "name": "python3"
  },
  "language_info": {
   "codemirror_mode": {
    "name": "ipython",
    "version": 3
   },
   "file_extension": ".py",
   "mimetype": "text/x-python",
   "name": "python",
   "nbconvert_exporter": "python",
   "pygments_lexer": "ipython3",
   "version": "3.7.9"
  }
 },
 "nbformat": 4,
 "nbformat_minor": 5
}
